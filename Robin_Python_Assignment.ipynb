{
  "cells": [
    {
      "cell_type": "code",
      "execution_count": null,
      "metadata": {
        "id": "GW0_usRgVJob",
        "outputId": "26bcffde-cc11-43bd-9010-3993625617ac"
      },
      "outputs": [
        {
          "name": "stdout",
          "output_type": "stream",
          "text": [
            "2401\n"
          ]
        }
      ],
      "source": [
        "print(7*7*7*7)"
      ]
    },
    {
      "cell_type": "markdown",
      "metadata": {
        "id": "aynXRDGMVJoO"
      },
      "source": [
        "# 1. What is 7 to the power of 4?"
      ]
    },
    {
      "cell_type": "code",
      "execution_count": null,
      "metadata": {
        "id": "kIVt9x6oVJoh",
        "outputId": "20cb1984-7764-401a-98e2-63da8ce03386"
      },
      "outputs": [
        {
          "data": {
            "text/plain": [
              "2401"
            ]
          },
          "execution_count": 1,
          "metadata": {},
          "output_type": "execute_result"
        }
      ],
      "source": [
        "pow(7,4)"
      ]
    },
    {
      "cell_type": "markdown",
      "metadata": {
        "id": "J3OLVebxVJoj"
      },
      "source": [
        "# 2.Split this string into a list. \n",
        "    s = \"Hi there Sam!\""
      ]
    },
    {
      "cell_type": "code",
      "execution_count": null,
      "metadata": {
        "id": "9zwjU_DwVJol",
        "outputId": "290d355b-c9e5-468f-c1ec-35045dd68017"
      },
      "outputs": [
        {
          "data": {
            "text/plain": [
              "['Hi', 'there', 'Sam!']"
            ]
          },
          "execution_count": 80,
          "metadata": {},
          "output_type": "execute_result"
        }
      ],
      "source": [
        "s = \"Hi there Sam!\"\n",
        "s.split()"
      ]
    },
    {
      "cell_type": "markdown",
      "metadata": {
        "id": "mck7MUH4VJon"
      },
      "source": [
        "# 3.Given the variables\n",
        "    planet = \"Earth\"\n",
        "    diameter = 12742\n",
        "Use .format() to print the following string\n",
        "The diameter of Earth is 12742 kilometers."
      ]
    },
    {
      "cell_type": "code",
      "execution_count": null,
      "metadata": {
        "id": "QfjObn4KVJop",
        "outputId": "02f63fd1-a034-42f8-f089-54caf99cc56e"
      },
      "outputs": [
        {
          "name": "stdout",
          "output_type": "stream",
          "text": [
            "The diameter of Earth is 12742 kilometers.\n",
            "The diameter ofEarth is 12742 kilometers.\n"
          ]
        }
      ],
      "source": [
        "planet = \"Earth\"\n",
        "diameter = 12742\n",
        "print(\"The diameter of {} is {} kilometers.\".format(planet,diameter))\n",
        "\n",
        "print(f'The diameter of{planet} is {diameter} kilometers.')"
      ]
    },
    {
      "cell_type": "markdown",
      "metadata": {
        "id": "p2tLED4tVJor"
      },
      "source": [
        "# 4.Given this nested list, use indexing to grab the word \"hello\n",
        "    lst = [1,2,[3,4],[5,[100,200,['hello']],23,11],1,7]"
      ]
    },
    {
      "cell_type": "code",
      "execution_count": null,
      "metadata": {
        "id": "l0YEzKYnVJos",
        "outputId": "86fa39f8-e2e3-4db1-e23e-2d8321201baa"
      },
      "outputs": [
        {
          "name": "stdout",
          "output_type": "stream",
          "text": [
            "hello\n"
          ]
        }
      ],
      "source": [
        "lst = [1,2,[3,4],[5,[100,200,['hello']],23,11],1,7]\n",
        "print(lst[3][1][2][0])"
      ]
    },
    {
      "cell_type": "markdown",
      "metadata": {
        "id": "E4TsapcYVJou"
      },
      "source": [
        "# 5. Given this nested dictionary grab the word \"hello\". Be prepared, this will be annoying/tricky\n",
        "    d = {'k1':[1,2,3,{'tricky':['oh','man','inception',{'target':[1,2,3,'hello']}]}]}"
      ]
    },
    {
      "cell_type": "code",
      "execution_count": null,
      "metadata": {
        "id": "XZCLxrwVVJov",
        "outputId": "5ad14508-c152-4867-9916-dcad50f23350"
      },
      "outputs": [
        {
          "name": "stdout",
          "output_type": "stream",
          "text": [
            "hello\n"
          ]
        }
      ],
      "source": [
        "d = {'k1':[1,2,3,{'tricky':['oh','man','inception',{'target':[1,2,3,'hello']}]}]}\n",
        "print(d['k1'][3]['tricky'][3]['target'][3])"
      ]
    },
    {
      "cell_type": "markdown",
      "metadata": {
        "id": "xxX7q-zhVJox"
      },
      "source": [
        "# 6.What is the main difference between a tuple and a list?"
      ]
    },
    {
      "cell_type": "markdown",
      "metadata": {
        "id": "gh_G1q6HVJoy"
      },
      "source": [
        "List is mutable"
      ]
    },
    {
      "cell_type": "code",
      "execution_count": null,
      "metadata": {
        "id": "IoBedSYkVJoz",
        "outputId": "705f2f23-c9a9-44d2-eb8c-4c928101f9da"
      },
      "outputs": [
        {
          "name": "stdout",
          "output_type": "stream",
          "text": [
            "[1, 5, 3]\n"
          ]
        }
      ],
      "source": [
        "k=[1,2,3]#list declaration [] \n",
        "k[1]=5\n",
        "print(k)# 1) list is mutable\n",
        "#2) Consumes more memory.\n",
        "#3)Operations like insertion and deletion are better performed.\n",
        "#4)The implication of iterations is time-consuming in the list."
      ]
    },
    {
      "cell_type": "markdown",
      "metadata": {
        "id": "BWlRMwEKVJo0"
      },
      "source": [
        "tuple is immutable"
      ]
    },
    {
      "cell_type": "code",
      "execution_count": null,
      "metadata": {
        "id": "CvB9Q4k7VJo1",
        "outputId": "e1ed626f-ffd1-4935-a334-6fe5711867f8"
      },
      "outputs": [
        {
          "ename": "TypeError",
          "evalue": "'tuple' object does not support item assignment",
          "output_type": "error",
          "traceback": [
            "\u001b[1;31m---------------------------------------------------------------------------\u001b[0m",
            "\u001b[1;31mTypeError\u001b[0m                                 Traceback (most recent call last)",
            "\u001b[1;32m<ipython-input-41-e0fb61e6a4d5>\u001b[0m in \u001b[0;36m<module>\u001b[1;34m\u001b[0m\n\u001b[0;32m      1\u001b[0m \u001b[0md\u001b[0m\u001b[1;33m=\u001b[0m\u001b[1;33m(\u001b[0m\u001b[1;36m1\u001b[0m\u001b[1;33m,\u001b[0m\u001b[1;36m2\u001b[0m\u001b[1;33m,\u001b[0m\u001b[1;36m3\u001b[0m\u001b[1;33m)\u001b[0m\u001b[1;31m#tuple declaration ()\u001b[0m\u001b[1;33m\u001b[0m\u001b[1;33m\u001b[0m\u001b[0m\n\u001b[1;32m----> 2\u001b[1;33m \u001b[0md\u001b[0m\u001b[1;33m[\u001b[0m\u001b[1;36m1\u001b[0m\u001b[1;33m]\u001b[0m\u001b[1;33m=\u001b[0m\u001b[1;36m5\u001b[0m\u001b[1;31m#1)tuple is immutable\u001b[0m\u001b[1;33m\u001b[0m\u001b[1;33m\u001b[0m\u001b[0m\n\u001b[0m\u001b[0;32m      3\u001b[0m \u001b[1;31m#2)Consumes less memory.\u001b[0m\u001b[1;33m\u001b[0m\u001b[1;33m\u001b[0m\u001b[1;33m\u001b[0m\u001b[0m\n\u001b[0;32m      4\u001b[0m \u001b[1;31m#3)Elements can be accessed better\u001b[0m\u001b[1;33m\u001b[0m\u001b[1;33m\u001b[0m\u001b[1;33m\u001b[0m\u001b[0m\n\u001b[0;32m      5\u001b[0m \u001b[1;31m#4)The implication of iterations is time-consuming in the list.\u001b[0m\u001b[1;33m\u001b[0m\u001b[1;33m\u001b[0m\u001b[1;33m\u001b[0m\u001b[0m\n",
            "\u001b[1;31mTypeError\u001b[0m: 'tuple' object does not support item assignment"
          ]
        }
      ],
      "source": [
        "d=(1,2,3)#tuple declaration ()\n",
        "d[1]=5#1)tuple is immutable we cannot use this assignment \n",
        "#2)Consumes less memory.\n",
        "#3)Elements can be accessed better\n",
        "#4)The implication of iterations is time-consuming in the list."
      ]
    },
    {
      "cell_type": "markdown",
      "metadata": {
        "id": "UHMLwwihVJo3"
      },
      "source": [
        "we cannot use item asssignment tuple is immutable"
      ]
    },
    {
      "cell_type": "markdown",
      "metadata": {
        "id": "ZZ1ni5dNVJo4"
      },
      "source": [
        "# 7.Create a function that grabs the email website domain from a string in the form : user@domain.com\n",
        "    So for example, passing \"user@domain.com\" would return: domain.com\n"
      ]
    },
    {
      "cell_type": "code",
      "execution_count": null,
      "metadata": {
        "id": "gecFHHV6VJo5",
        "outputId": "50466a59-679f-4391-a089-4587799f9112"
      },
      "outputs": [
        {
          "data": {
            "text/plain": [
              "'domain.com'"
            ]
          },
          "execution_count": 52,
          "metadata": {},
          "output_type": "execute_result"
        }
      ],
      "source": [
        "v=\"user@domain.com\"\n",
        "v.split(\"@\")[1]\n"
      ]
    },
    {
      "cell_type": "markdown",
      "metadata": {
        "id": "AnwuXhp4VJo6"
      },
      "source": [
        "# 8. Create a basic function that returns True if the word 'dog' is contained in the input string. \n",
        "    Don't worry about edge cases like a punctuation being attached to the word dog, but do account for capitalization."
      ]
    },
    {
      "cell_type": "code",
      "execution_count": null,
      "metadata": {
        "id": "B0CEt9SQVJo7",
        "outputId": "72e2fad6-cc94-4d51-cb31-3b90228d716e"
      },
      "outputs": [
        {
          "name": "stdout",
          "output_type": "stream",
          "text": [
            "enter animaldog aa \n",
            "True\n",
            "True\n",
            "False\n"
          ]
        }
      ],
      "source": [
        "def checkdog():\n",
        "    a=input(\"enter animal\").upper().split()\n",
        "    v=0\n",
        "    for i in  a:\n",
        "        if i==\"DOG\":\n",
        "            v=1\n",
        "    if v==1:\n",
        "        print(\"True\")\n",
        "    else:\n",
        "        print(\"False\")\n",
        "\n",
        "checkdog()"
      ]
    },
    {
      "cell_type": "markdown",
      "metadata": {
        "id": "o0icUUOlVJo-"
      },
      "source": [
        "# 9. Use lambda expressions and the filter() function to filter out words from a list that don't start with the letter 's'.\n",
        "    For example:\n",
        "    seq = ['soup','dog','salad','cat','great']\n",
        "    should be filtered down to:    ['soup','salad']"
      ]
    },
    {
      "cell_type": "code",
      "execution_count": null,
      "metadata": {
        "id": "Pb74dyyJVJo_",
        "outputId": "83cd6082-7ff1-49d0-e145-323f6c888899"
      },
      "outputs": [
        {
          "name": "stdout",
          "output_type": "stream",
          "text": [
            "['soup', 'salad']\n"
          ]
        }
      ],
      "source": [
        "seq = ['soup', 'dog','salad', 'cat', 'great']\n",
        "print(list(filter (lambda test: test[0] == \"s\",seq)))"
      ]
    },
    {
      "cell_type": "markdown",
      "metadata": {
        "id": "MM1IsCPKVJpB"
      },
      "source": [
        "# 10. You are driving a little too fast, and a police officer stops you. Write a function\n",
        "      to return one of 3 possible results: \"No ticket\", \"Small ticket\", or \"Big Ticket\". \n",
        "      If your speed is 60 or less, the result is \"No Ticket\". If speed is between 61 \n",
        "      and 80 inclusive, the result is \"Small Ticket\". If speed is 81 or more, the result is \"Big    Ticket\".\n",
        "     Unless it is your birthday (encoded as a boolean value in the parameters of the function) --\n",
        "     on your birthday, your speed can be 5 higher in all cases. "
      ]
    },
    {
      "cell_type": "code",
      "execution_count": null,
      "metadata": {
        "id": "1nOsWaRpVJpC",
        "outputId": "b9180baa-f0a1-4b99-afff-d9054a139895"
      },
      "outputs": [
        {
          "name": "stdout",
          "output_type": "stream",
          "text": [
            "is your birthday?yes\n",
            "yes\n",
            "speed81\n",
            "small ticket\n"
          ]
        }
      ],
      "source": [
        "def police():\n",
        "    \n",
        "    \n",
        "    birthday=input(\"is your birthday?\")\n",
        "    print(birthday)\n",
        "    \n",
        "    if birthday==\"yes\":\n",
        "        speed=int(input('speed'))\n",
        "        speed=speed-5\n",
        "    else:\n",
        "        speed=int(input('speed'))\n",
        "    \n",
        "    if speed<=60:\n",
        "        print(\"no ticket\")\n",
        "    if speed>=61 and speed<=80:\n",
        "        print(\"small ticket\")\n",
        "    if speed>=81:\n",
        "        print(\"big ticket\")\n",
        "police()"
      ]
    },
    {
      "cell_type": "code",
      "execution_count": null,
      "metadata": {
        "id": "tZsVR01dVJpF"
      },
      "outputs": [],
      "source": [
        ""
      ]
    }
  ],
  "metadata": {
    "kernelspec": {
      "display_name": "Python 3",
      "language": "python",
      "name": "python3"
    },
    "language_info": {
      "codemirror_mode": {
        "name": "ipython",
        "version": 3
      },
      "file_extension": ".py",
      "mimetype": "text/x-python",
      "name": "python",
      "nbconvert_exporter": "python",
      "pygments_lexer": "ipython3",
      "version": "3.8.5"
    },
    "colab": {
      "name": "ajmal_johnson_Applied Data Science_assignment 1.ipynb",
      "provenance": [],
      "collapsed_sections": []
    }
  },
  "nbformat": 4,
  "nbformat_minor": 0
}